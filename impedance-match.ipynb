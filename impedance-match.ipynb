{
 "cells": [
  {
   "cell_type": "markdown",
   "metadata": {},
   "source": [
    "# Impedance Match Notebook\n",
    "\n",
    "Run the whole notebook and then scroll down to the bottom to select materials and impact conditions."
   ]
  },
  {
   "cell_type": "code",
   "execution_count": 5,
   "metadata": {
    "tags": [
     "hide-input"
    ]
   },
   "outputs": [
    {
     "name": "stdout",
     "output_type": "stream",
     "text": [
      "Current date and time: 2022-06-16 16:31:09.141711\n",
      "python version (orig 3.9.12):  3.9.12\n",
      "matplotlib version (orig 3.5.1):  3.5.1\n",
      "numpy version (orig 1.21.5):  1.21.5\n",
      "pandas version (orig 1.4.2):  1.4.2\n"
     ]
    }
   ],
   "source": [
    "import matplotlib.pyplot as plt\n",
    "import numpy as np\n",
    "import ipywidgets as widgets\n",
    "from ipywidgets import interact, interactive, fixed, interact_manual\n",
    "import pandas as pd\n",
    "import os\n",
    "\n",
    "# Read in materials database \n",
    "os.system('wget --quiet https://github.com/StewartGroup/impacts-tutorial/blob/main/materials-data.csv?raw=true -O materials-data.csv')\n",
    "matdata=pd.read_csv('materials-data.csv') \n"
   ]
  },
  {
   "cell_type": "markdown",
   "metadata": {},
   "source": [
    "```{margin} Running a code cell\n",
    "Access interactive features by 'Launch CoLab' from the rocket logo at the top of the page.\n",
    "```\n",
    "## Impedance Match Widget\n",
    "Launch CoLab"
   ]
  },
  {
   "cell_type": "code",
   "execution_count": 3,
   "metadata": {
    "tags": [
     "hide-input"
    ]
   },
   "outputs": [
    {
     "data": {
      "application/vnd.jupyter.widget-view+json": {
       "model_id": "3e6c00fb41684e8bbf55cb9700c5a99e",
       "version_major": 2,
       "version_minor": 0
      },
      "text/plain": [
       "Output()"
      ]
     },
     "metadata": {},
     "output_type": "display_data"
    },
    {
     "data": {
      "application/vnd.jupyter.widget-view+json": {
       "model_id": "27ac46377e744575b716a2e64623fa89",
       "version_major": 2,
       "version_minor": 0
      },
      "text/plain": [
       "HBox(children=(Label(value='Select materials and then select velocity to update plot.'),))"
      ]
     },
     "metadata": {},
     "output_type": "display_data"
    },
    {
     "data": {
      "application/vnd.jupyter.widget-view+json": {
       "model_id": "7e582456c89a4ada80339d5c275d2de3",
       "version_major": 2,
       "version_minor": 0
      },
      "text/plain": [
       "HBox(children=(Combobox(value='', description='Material 1:', ensure_option=True, options=('Copper', 'PMMA', 'T…"
      ]
     },
     "metadata": {},
     "output_type": "display_data"
    },
    {
     "data": {
      "application/vnd.jupyter.widget-view+json": {
       "model_id": "661e4708c3f54eaab0eda5b24ea1a348",
       "version_major": 2,
       "version_minor": 0
      },
      "text/plain": [
       "HBox(children=(Label(value='Impact Velocity (km/s):'), FloatSlider(value=0.0, max=50.0)))"
      ]
     },
     "metadata": {},
     "output_type": "display_data"
    },
    {
     "data": {
      "application/vnd.jupyter.widget-view+json": {
       "model_id": "1dd30a6945d94dee81ef68d2302a3819",
       "version_major": 2,
       "version_minor": 0
      },
      "text/plain": [
       "HBox(children=(Label(value='Save image file name: '), Text(value='Impact-solution.png')))"
      ]
     },
     "metadata": {},
     "output_type": "display_data"
    },
    {
     "data": {
      "application/vnd.jupyter.widget-view+json": {
       "model_id": "2b3fe2a9406d4ee9a26faa850648db81",
       "version_major": 2,
       "version_minor": 0
      },
      "text/plain": [
       "Button(description='Savefig', style=ButtonStyle())"
      ]
     },
     "metadata": {},
     "output_type": "display_data"
    }
   ],
   "source": [
    "#@title Widget code block\n",
    "button = widgets.Button(description=\"Savefig\")\n",
    "\n",
    "m = widgets.FloatSlider(min=-5,max=5,step=0.5, description=\"Slope\")\n",
    "c = widgets.FloatSlider(min=-5,max=5,step=0.5, description=\"Intercept\")\n",
    "\n",
    "filename=widgets.Text(\n",
    "    value='Impact-solution.png',\n",
    "    #placeholder='Type something',\n",
    "    #description='Save image file name:',\n",
    "    disabled=False\n",
    ")\n",
    "mat1=widgets.Combobox(\n",
    "    #value='Copper',\n",
    "    placeholder='Choose Material',\n",
    "    options=tuple(matdata.loc[:,'Material'].values),\n",
    "    description='Material 1:',\n",
    "    ensure_option=True,\n",
    "    disabled=False\n",
    ")\n",
    "\n",
    "mat2=widgets.Combobox(\n",
    "    #value='Copper',\n",
    "    placeholder='Choose Material',\n",
    "    options=tuple(matdata.loc[:,'Material'].values),\n",
    "    description='Material 2:',\n",
    "    ensure_option=True,\n",
    "    disabled=False\n",
    ")\n",
    "vel=10\n",
    "vel = widgets.FloatSlider(min=0,max=50,step=0.10)\n",
    "\n",
    "\n",
    "# An HBox lays out its children horizontally\n",
    "\n",
    "ui0 = widgets.HBox([widgets.Label(\"Select materials and then select velocity to update plot.\")])\n",
    "\n",
    "ui1 = widgets.HBox([mat1, mat2])\n",
    "\n",
    "ui2 = widgets.HBox([widgets.Label(\"Impact Velocity (km/s):\"),vel])\n",
    "\n",
    "ui3 = widgets.HBox([widgets.Label(\"Save image file name: \"),filename])\n",
    "\n",
    "def plot(vel):\n",
    "    fig = plt.figure(figsize=(7,5))\n",
    "    def on_button_clicked(b):\n",
    "        fig.savefig(filename.value)\n",
    "    button.on_click(on_button_clicked)\n",
    "\n",
    "    # find index for each material\n",
    "    up = np.arange(0,101)/100.*vel # km/s\n",
    "    id1 = np.where(matdata.loc[:,'Material'].values == mat1.value)[0]\n",
    "    if len(id1)>0:\n",
    "        rho0=matdata.loc[id1[0],'Density'] # g/cm3\n",
    "        c0=matdata.loc[id1[0],'c0'] # km/s\n",
    "        s = matdata.loc[id1[0],'s1'] \n",
    "        P1=rho0*up*(c0+s*up) # GPa\n",
    "    id2 = np.where(matdata.loc[:,'Material'].values == mat2.value)[0]\n",
    "    if len(id2)>0:\n",
    "        rho0=matdata.loc[id2[0],'Density'] # g/cm3\n",
    "        c0=matdata.loc[id2[0],'c0'] # km/s\n",
    "        s = matdata.loc[id2[0],'s1'] \n",
    "        P2=rho0*up*(c0+s*up) # GPa\n",
    "    if len(id1) >0 and len(id1)>0:\n",
    "        up_match = np.interp(0,P2-np.flip(P1),up)\n",
    "        up_match_fix = round(up_match*100)/100.\n",
    "        rho0=matdata.loc[id2[0],'Density'] # g/cm3\n",
    "        c0=matdata.loc[id2[0],'c0'] # km/s\n",
    "        s = matdata.loc[id2[0],'s1'] \n",
    "        P_match = rho0*up_match*(c0+s*up_match)\n",
    "        P_match_fix = round(P_match*100)/100.\n",
    "        plt.title(mat1.value+' impacts '+mat2.value+' at '+str(vel)+' km/s\\nImp. Match: Up='+str(up_match_fix)+'(km/s) P='+str(P_match_fix)+' (GPa)')\n",
    "        plt.plot(vel-up,P1,label=mat1.value)\n",
    "#        plt.plot(up,P1,label=mat1.value)\n",
    "        plt.plot(up,P2,label=mat2.value)\n",
    "#        plt.plot(up,np.flip(P1)-P2,label='match')\n",
    "        plt.legend()\n",
    "        plt.xlabel('Particle Velocity (km/s)')\n",
    "        plt.ylabel('Pressure (GPa)')\n",
    "        plt.show()\n",
    "\n",
    "\n",
    "out = widgets.interactive_output(plot, {'vel': vel})\n",
    "\n",
    "#display(out, ui, ui2, filename)\n",
    "display(out, ui0, ui1, ui2, ui3)\n",
    "\n",
    "display(button)\n"
   ]
  },
  {
   "cell_type": "markdown",
   "metadata": {},
   "source": [
    "## Materials Database\n",
    "\n",
    "Comma separated file with columns of:<br>\n",
    "Material name, density (g/cm$^3$), c0 (km/s), s1<p>\n",
    "    \n",
    "The materials are currently defined by a linear $U_s-u_p$ Hugoniot, where<br>\n",
    "    $U_s = c_0+s_1 u_p$<p>\n",
    "    \n",
    "You can import your own materials to the database by adding to this file locally or pointing to your own materials database file. Send new material entry requests to sts@ucdavis.edu."
   ]
  },
  {
   "cell_type": "code",
   "execution_count": null,
   "metadata": {},
   "outputs": [],
   "source": [
    "print(matdata.info)"
   ]
  },
  {
   "cell_type": "code",
   "execution_count": null,
   "metadata": {},
   "outputs": [],
   "source": [
    "# Record the verions information for these calculation for posterity\n",
    "import platform\n",
    "print('python version (orig 3.9.12): ',platform.python_version())\n",
    "del platform\n",
    "import matplotlib\n",
    "print('matplotlib version (orig 3.5.1): ', matplotlib.__version__)\n",
    "del matplotlib\n",
    "import numpy\n",
    "print('numpy version (orig 1.21.5): ', numpy.__version__)\n",
    "del numpy\n",
    "import pandas\n",
    "print('pandas version (orig 1.4.2): ', pandas.__version__)\n",
    "del pandas\n"
   ]
  },
  {
   "cell_type": "markdown",
   "metadata": {},
   "source": [
    "Prepared by<br>\n",
    "Sarah T. Stewart<br>\n",
    "U. California, Davis<br>\n",
    "Updated June 16, 2022<p>\n"
   ]
  }
 ],
 "metadata": {
  "celltoolbar": "Edit Metadata",
  "kernelspec": {
   "display_name": "Python 3 (ipykernel)",
   "language": "python",
   "name": "python3"
  },
  "language_info": {
   "codemirror_mode": {
    "name": "ipython",
    "version": 3
   },
   "file_extension": ".py",
   "mimetype": "text/x-python",
   "name": "python",
   "nbconvert_exporter": "python",
   "pygments_lexer": "ipython3",
   "version": "3.9.12"
  },
  "widgets": {
   "application/vnd.jupyter.widget-state+json": {
    "state": {},
    "version_major": 2,
    "version_minor": 0
   }
  }
 },
 "nbformat": 4,
 "nbformat_minor": 4
}
