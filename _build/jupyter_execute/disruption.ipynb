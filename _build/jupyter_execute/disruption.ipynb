{
 "cells": [
  {
   "cell_type": "markdown",
   "id": "3b11ac44",
   "metadata": {},
   "source": [
    "# Catastrophic Disruption Scaling\n",
    "\n",
    "When the specific energy (energy per unit mass) of a collision begins\n",
    "to disturb the gravitational potential energy field of a body, then\n",
    "the impact cratering scaling laws are no longer applicable, and\n",
    "researchers transition to a scaling system based on a catastrophic\n",
    "disruption curve.\n",
    "\n",
    "Catastrophic disruption is jargon in the impact community that refers\n",
    "to a criteria to remove half the mass of the target or half the mass\n",
    "of the colliding bodies.\n",
    "\n",
    "## Online Catastrophic Disruption Tool\n",
    "\n",
    "<a href=\"https://sarahtstewart.net/resources/collision/\"\n",
    "target=\"_blank\">Planetary Collision Calculator</a><p>\n",
    "Reference for the equations behind this calculator:\n",
    "{cite}`Leinhardt2012`"
   ]
  }
 ],
 "metadata": {
  "jupytext": {
   "cell_metadata_filter": "-all",
   "formats": "md:myst",
   "text_representation": {
    "extension": ".md",
    "format_name": "myst",
    "format_version": 0.13,
    "jupytext_version": "1.11.5"
   }
  },
  "kernelspec": {
   "display_name": "Python 3",
   "language": "python",
   "name": "python3"
  },
  "language_info": {
   "codemirror_mode": {
    "name": "ipython",
    "version": 3
   },
   "file_extension": ".py",
   "mimetype": "text/x-python",
   "name": "python",
   "nbconvert_exporter": "python",
   "pygments_lexer": "ipython3",
   "version": "3.7.13"
  },
  "source_map": [
   14
  ]
 },
 "nbformat": 4,
 "nbformat_minor": 5
}