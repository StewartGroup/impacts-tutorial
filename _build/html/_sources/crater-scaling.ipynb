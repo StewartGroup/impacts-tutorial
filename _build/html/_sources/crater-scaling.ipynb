{
 "cells": [
  {
   "cell_type": "markdown",
   "id": "1e6aa3df",
   "metadata": {},
   "source": [
    "# Impact Cratering Scaling Laws\n",
    "\n",
    "Online crater scaling tools:<br>\n",
    "<ul>\n",
    "<li><a\n",
    "href=\"https://www.lpi.usra.edu/lunar/tools/lunarcratercalc/\">Lunar\n",
    "crater calculator</a></li>\n",
    "<a href=\"https://impact.ese.ic.ac.uk/ImpactEarth/ImpactEffects/\">Earth\n",
    "Impact Effects Program</a></li>\n",
    "</ul>"
   ]
  }
 ],
 "metadata": {
  "jupytext": {
   "cell_metadata_filter": "-all",
   "formats": "md:myst",
   "text_representation": {
    "extension": ".md",
    "format_name": "myst",
    "format_version": 0.13,
    "jupytext_version": "1.11.5"
   }
  },
  "kernelspec": {
   "display_name": "Python 3",
   "language": "python",
   "name": "python3"
  },
  "language_info": {
   "codemirror_mode": {
    "name": "ipython",
    "version": 3
   },
   "file_extension": ".py",
   "mimetype": "text/x-python",
   "name": "python",
   "nbconvert_exporter": "python",
   "pygments_lexer": "ipython3",
   "version": "3.7.13"
  },
  "source_map": [
   14
  ]
 },
 "nbformat": 4,
 "nbformat_minor": 5
}