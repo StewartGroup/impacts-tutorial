{
 "cells": [
  {
   "cell_type": "markdown",
   "id": "0ba9218a",
   "metadata": {},
   "source": [
    "# Catastrophic Disruption Scaling\n",
    "\n",
    "When the specific energy (energy per unit mass) of a collision begins\n",
    "to disturb the gravitational potential energy field of a body, then\n",
    "the impact cratering scaling laws are no longer applicable, and\n",
    "researchers transition to a scaling system based on a catastrophic\n",
    "disruption curve.\n",
    "\n",
    "Catastrophic disruption is jargon in the impact community that refers\n",
    "to a criteria where the largest fragment has half the mass of the\n",
    "target. It is usually denoted by a specific impact energy $Q^*$ in\n",
    "J/kg. The criteria depends on the body's size, composition, and\n",
    "velocity.\n",
    "\n",
    "Later, the gravity regime scaling was modified to include the energy\n",
    "necessary to disperse half the target mass, leading to the notation $Q^*_D$\n",
    "{cite}`Melosh1997`. Finally, when dispersing half the total mass, the\n",
    "notation is $Q^*_{RD}$, introduced in {cite}`Leinhardt2012`.\n",
    "\n",
    "The classic derivation of the scaling law for both the\n",
    "strength and gravity regime is {cite}`Housen1990`. This paper is an\n",
    "amazing derivation of the catastrophic disruption curve, but it is\n",
    "long and dense. This paper, based on numerical simulations, will be\n",
    "more accessible for novice readers: {cite}`Benz1999`.\n",
    "\n",
    "Example disruption curves for basalt and ice from {cite}`Benz1999`,\n",
    "illustrating the dependence on impact velocity and transition from the\n",
    "strength regime (downward sloping left side of the curve) and the\n",
    "gravity regime (upward sloping right side of the curve). <p>\n",
    "\n",
    "<img\n",
    "src=\"https://drive.google.com/uc?export=view&id=1H95WXZQDuwglBsAhuxTZfKoTD-lKNhX6\">\n",
    "\n",
    "<img src=\"https://drive.google.com/uc?export=view&id=1J1bhj9pXLJYUI-yTsICmMvvvsjv3DAcJ\">\n",
    "\n",
    "\n",
    "## Online Catastrophic Disruption Tool -- Gravity Regime Only\n",
    "\n",
    "<a href=\"https://sarahtstewart.net/resources/collision/\"\n",
    "target=\"_blank\">Planetary Collision Calculator</a><p>\n",
    "Reference for the equations behind this calculator:\n",
    "{cite}`Leinhardt2012`\n",
    "\n",
    "### Explanation of the Collision Outcome Regimes\n",
    "\n",
    "Generally, the outcome of collisions between similar-sized bodies can\n",
    "fall into some general categories: (1) perfect merging (negligible\n",
    "mass in ejected fragments -- dark blue region in figure below); (2)\n",
    "partial accretion (the larger body gains mass); (3) net erosion (the\n",
    "larger body loses mass); (4) hit-and-run (small change to larger\n",
    "body's mass). In the figure below, the thick black line with the\n",
    "critical energy for half the combined mass remaining ($Q^*_{RD}$). The\n",
    "outcomes depend on the mass ratio of the bodies, the impact\n",
    "velocities, and the impact angle, where $b$ is the impact parameter\n",
    "(sine of the impact angle where head on is 0 degrees). $V_{esc}$ is\n",
    "the mutual escape velocity. $M_p$ is the projectile mass; $M_{targ}$\n",
    "is the target mass; $V_i$ is the impact velocity. The impact angle\n",
    "axis is normalized by probability (e.g., 1/4 of all events occur\n",
    "between 0 and 30 degrees).\n",
    "\n",
    "Figure 11 from {cite}`Leinhardt2012`<br>\n",
    "<img\n",
    "src=\"https://drive.google.com/uc?export=view&id=1DyewKCG_4KAebHi2I0IRgWUhMDs7MUXI\">\n",
    "\n",
    "The mass of the largest remnant is approximately linear with\n",
    "normalized specific impact energy. At larger impact energies, the size\n",
    "of the largest remnant falls of exponentially.<p>\n",
    "\n",
    "Figure 3 from {cite}`Leinhardt2012`<br>\n",
    "<img\n",
    "src=\"https://drive.google.com/uc?export=view&id=1nAiK1aUrLH8Bi2CF4hdSLg0kA_igfAWy\">"
   ]
  }
 ],
 "metadata": {
  "jupytext": {
   "cell_metadata_filter": "-all",
   "formats": "md:myst",
   "text_representation": {
    "extension": ".md",
    "format_name": "myst",
    "format_version": 0.13,
    "jupytext_version": "1.11.5"
   }
  },
  "kernelspec": {
   "display_name": "Python 3",
   "language": "python",
   "name": "python3"
  },
  "language_info": {
   "codemirror_mode": {
    "name": "ipython",
    "version": 3
   },
   "file_extension": ".py",
   "mimetype": "text/x-python",
   "name": "python",
   "nbconvert_exporter": "python",
   "pygments_lexer": "ipython3",
   "version": "3.7.13"
  },
  "source_map": [
   14
  ]
 },
 "nbformat": 4,
 "nbformat_minor": 5
}