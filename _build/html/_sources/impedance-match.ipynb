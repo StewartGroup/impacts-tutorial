{
 "cells": [
  {
   "cell_type": "markdown",
   "metadata": {},
   "source": [
    "# Impedance Match Notebook\n",
    "\n",
    "In Google CoLab, select Runtime -> Run all<p>\n",
    "<b>Note: This notebook uses wget to retrieve a materials database file from GitHub.<b>"
   ]
  },
  {
   "cell_type": "code",
   "execution_count": 1,
   "metadata": {
    "tags": [
     "hide-input"
    ]
   },
   "outputs": [],
   "source": [
    "#@title Double-click to collapse code\n",
    "\n",
    "import matplotlib.pyplot as plt\n",
    "import matplotlib.image as img\n",
    "import numpy as np\n",
    "import ipywidgets as widgets\n",
    "from ipywidgets import interact, interactive, fixed, interact_manual\n",
    "import pandas as pd\n",
    "import os\n",
    "\n",
    "plt.rcParams[\"figure.figsize\"] = (8,6)\n",
    "\n",
    "# Read in materials database \n",
    "os.system('wget --quiet https://github.com/StewartGroup/impacts-tutorial/blob/main/materials-data.csv?raw=true -O materials-data.csv')\n",
    "os.system('wget --quiet https://github.com/StewartGroup/impacts-tutorial/blob/main/Impact-solution.png?raw=true -O Impact-solution.png')\n",
    "matdata=pd.read_csv('materials-data.csv') \n"
   ]
  },
  {
   "cell_type": "markdown",
   "metadata": {},
   "source": [
    "```{margin} Running a code cell\n",
    "Access interactive features by 'Launch CoLab' from the rocket logo at the top of the page.\n",
    "```\n",
    "## Impedance Match Widget\n",
    "Launch CoLab; run the notebook; select materials and impact velocity."
   ]
  },
  {
   "cell_type": "code",
   "execution_count": 2,
   "metadata": {
    "tags": [
     "hide-input"
    ]
   },
   "outputs": [
    {
     "data": {
      "application/vnd.jupyter.widget-view+json": {
       "model_id": "d1a187badb5c408d97ddbf71ea035cb6",
       "version_major": 2,
       "version_minor": 0
      },
      "text/plain": [
       "Output()"
      ]
     },
     "metadata": {},
     "output_type": "display_data"
    },
    {
     "data": {
      "application/vnd.jupyter.widget-view+json": {
       "model_id": "2d29f943498942089d3a2fd11c1c6f66",
       "version_major": 2,
       "version_minor": 0
      },
      "text/plain": [
       "HBox(children=(Label(value='Select materials and then select velocity to update plot.'),))"
      ]
     },
     "metadata": {},
     "output_type": "display_data"
    },
    {
     "data": {
      "application/vnd.jupyter.widget-view+json": {
       "model_id": "a71794e68f4144aab2c77cafac3878cf",
       "version_major": 2,
       "version_minor": 0
      },
      "text/plain": [
       "HBox(children=(Combobox(value='', description='Material 1:', ensure_option=True, options=('Basalt', 'Ice', 'Wa…"
      ]
     },
     "metadata": {},
     "output_type": "display_data"
    },
    {
     "data": {
      "application/vnd.jupyter.widget-view+json": {
       "model_id": "9095f53ba0d34aefac03cf6b4360fa03",
       "version_major": 2,
       "version_minor": 0
      },
      "text/plain": [
       "HBox(children=(Label(value='Impact Velocity (km/s):'), FloatSlider(value=0.0, max=50.0)))"
      ]
     },
     "metadata": {},
     "output_type": "display_data"
    },
    {
     "data": {
      "application/vnd.jupyter.widget-view+json": {
       "model_id": "ad8e8acf80414b3494fee2ee767bb07c",
       "version_major": 2,
       "version_minor": 0
      },
      "text/plain": [
       "HBox(children=(Label(value='Save image file name: '), Text(value='Impact-solution.png')))"
      ]
     },
     "metadata": {},
     "output_type": "display_data"
    },
    {
     "data": {
      "application/vnd.jupyter.widget-view+json": {
       "model_id": "6b19ec3a324f4c199af0d6fee83bafa2",
       "version_major": 2,
       "version_minor": 0
      },
      "text/plain": [
       "Button(description='Save Image', style=ButtonStyle())"
      ]
     },
     "metadata": {},
     "output_type": "display_data"
    }
   ],
   "source": [
    "#@title Double-click to collapse code\n",
    "\n",
    "button = widgets.Button(description=\"Save Image\")\n",
    "\n",
    "filename=widgets.Text(\n",
    "    value='Impact-solution.png',\n",
    "    #placeholder='Type something',\n",
    "    #description='Save image file name:',\n",
    "    disabled=False\n",
    ")\n",
    "mat1=widgets.Combobox(\n",
    "    #value='Copper',\n",
    "    placeholder='Choose Material',\n",
    "    options=tuple(matdata.loc[:,'Material'].values),\n",
    "    description='Material 1:',\n",
    "    ensure_option=True,\n",
    "    disabled=False\n",
    ")\n",
    "\n",
    "mat2=widgets.Combobox(\n",
    "    #value='Copper',\n",
    "    placeholder='Choose Material',\n",
    "    options=tuple(matdata.loc[:,'Material'].values),\n",
    "    description='Material 2:',\n",
    "    ensure_option=True,\n",
    "    disabled=False\n",
    ")\n",
    "\n",
    "vel=10\n",
    "vel = widgets.FloatSlider(min=0,max=50,step=0.10)\n",
    "\n",
    "# An HBox lays out its children horizontally\n",
    "ui0 = widgets.HBox([widgets.Label(\"Select materials and then select velocity to update plot. Clear materials to get dropdown list again.\")])\n",
    "ui1 = widgets.HBox([mat1, mat2])\n",
    "ui2 = widgets.HBox([widgets.Label(\"Impact Velocity (km/s):\"),vel])\n",
    "ui3 = widgets.HBox([widgets.Label(\"Save image file name: \"),filename])\n",
    "\n",
    "def plot(vel):\n",
    "    fig = plt.figure()\n",
    "    def on_button_clicked(b):\n",
    "        fig.savefig(filename.value)\n",
    "    button.on_click(on_button_clicked)\n",
    "\n",
    "    # find index for each material\n",
    "    up = np.arange(0,101)/100.*vel # km/s\n",
    "    id1 = np.where(matdata.loc[:,'Material'].values == mat1.value)[0]\n",
    "    if len(id1)>0:\n",
    "        rho0=matdata.loc[id1[0],'Density'] # g/cm3\n",
    "        c0=matdata.loc[id1[0],'c0'] # km/s\n",
    "        s = matdata.loc[id1[0],'s1'] \n",
    "        P1=rho0*up*(c0+s*up) # GPa\n",
    "    else:\n",
    "        file = img.imread('Impact-solution.png')\n",
    "        plt.imshow(file)\n",
    "\n",
    "    id2 = np.where(matdata.loc[:,'Material'].values == mat2.value)[0]\n",
    "    if len(id2)>0:\n",
    "        rho0=matdata.loc[id2[0],'Density'] # g/cm3\n",
    "        c0=matdata.loc[id2[0],'c0'] # km/s\n",
    "        s = matdata.loc[id2[0],'s1'] \n",
    "        P2=rho0*up*(c0+s*up) # GPa\n",
    "    if len(id1) >0 and len(id1)>0:\n",
    "        up_match = np.interp(0,P2-np.flip(P1),up)\n",
    "        up_match_fix = round(up_match*100)/100.\n",
    "        rho0=matdata.loc[id2[0],'Density'] # g/cm3\n",
    "        c0=matdata.loc[id2[0],'c0'] # km/s\n",
    "        s = matdata.loc[id2[0],'s1'] \n",
    "        P_match = rho0*up_match*(c0+s*up_match)\n",
    "        P_match_fix = round(P_match*100)/100.\n",
    "        plt.title(mat1.value+' impacts '+mat2.value+' at '+str(vel)+' km/s\\nImp. Match: Up='+str(up_match_fix)+'(km/s) P='+str(P_match_fix)+' (GPa)')\n",
    "        plt.plot(vel-up,P1,label=mat1.value)\n",
    "#        plt.plot(up,P1,label=mat1.value)\n",
    "        plt.plot(up,P2,label=mat2.value)\n",
    "#        plt.plot(up,np.flip(P1)-P2,label='match')\n",
    "        plt.legend()\n",
    "        plt.xlabel('Particle Velocity (km/s)')\n",
    "        plt.ylabel('Pressure (GPa)')\n",
    "        plt.show()\n",
    "\n",
    "\n",
    "out = widgets.interactive_output(plot, {'vel': vel})\n",
    "display(out, ui0, ui1, ui2, ui3)\n",
    "\n",
    "display(button)\n"
   ]
  },
  {
   "cell_type": "markdown",
   "metadata": {},
   "source": [
    "## Materials Database\n",
    "\n",
    "Comma separated file with columns of:<br>\n",
    "Material name, density (g/cm$^3$), c0 (km/s), s1<p>\n",
    "    \n",
    "The materials are currently defined by a linear $U_s-u_p$ Hugoniot, where<br>\n",
    "    $U_s = c_0+s_1 u_p$<p>\n",
    "    \n",
    "You can import your own materials to the database by adding to this file locally or pointing to your own materials database file. Send new material entry requests to sts@ucdavis.edu."
   ]
  },
  {
   "cell_type": "code",
   "execution_count": 3,
   "metadata": {
    "tags": [
     "hide-input"
    ]
   },
   "outputs": [
    {
     "data": {
      "text/html": [
       "<div>\n",
       "<style scoped>\n",
       "    .dataframe tbody tr th:only-of-type {\n",
       "        vertical-align: middle;\n",
       "    }\n",
       "\n",
       "    .dataframe tbody tr th {\n",
       "        vertical-align: top;\n",
       "    }\n",
       "\n",
       "    .dataframe thead th {\n",
       "        text-align: right;\n",
       "    }\n",
       "</style>\n",
       "<table border=\"1\" class=\"dataframe\">\n",
       "  <thead>\n",
       "    <tr style=\"text-align: right;\">\n",
       "      <th></th>\n",
       "      <th>Material</th>\n",
       "      <th>Density</th>\n",
       "      <th>c0</th>\n",
       "      <th>s1</th>\n",
       "    </tr>\n",
       "  </thead>\n",
       "  <tbody>\n",
       "    <tr>\n",
       "      <th>0</th>\n",
       "      <td>Basalt</td>\n",
       "      <td>2.900</td>\n",
       "      <td>3.340</td>\n",
       "      <td>1.380</td>\n",
       "    </tr>\n",
       "    <tr>\n",
       "      <th>1</th>\n",
       "      <td>Ice</td>\n",
       "      <td>0.910</td>\n",
       "      <td>1.700</td>\n",
       "      <td>1.440</td>\n",
       "    </tr>\n",
       "    <tr>\n",
       "      <th>2</th>\n",
       "      <td>Water</td>\n",
       "      <td>1.000</td>\n",
       "      <td>1.650</td>\n",
       "      <td>1.920</td>\n",
       "    </tr>\n",
       "    <tr>\n",
       "      <th>3</th>\n",
       "      <td>Stainless Steel</td>\n",
       "      <td>7.896</td>\n",
       "      <td>4.569</td>\n",
       "      <td>1.490</td>\n",
       "    </tr>\n",
       "    <tr>\n",
       "      <th>4</th>\n",
       "      <td>Copper</td>\n",
       "      <td>8.924</td>\n",
       "      <td>3.895</td>\n",
       "      <td>1.545</td>\n",
       "    </tr>\n",
       "    <tr>\n",
       "      <th>5</th>\n",
       "      <td>PMMA</td>\n",
       "      <td>1.186</td>\n",
       "      <td>2.598</td>\n",
       "      <td>1.516</td>\n",
       "    </tr>\n",
       "    <tr>\n",
       "      <th>6</th>\n",
       "      <td>Tungsten</td>\n",
       "      <td>17.600</td>\n",
       "      <td>4.000</td>\n",
       "      <td>1.268</td>\n",
       "    </tr>\n",
       "    <tr>\n",
       "      <th>7</th>\n",
       "      <td>Aluminium 6061</td>\n",
       "      <td>2.703</td>\n",
       "      <td>5.350</td>\n",
       "      <td>1.340</td>\n",
       "    </tr>\n",
       "    <tr>\n",
       "      <th>8</th>\n",
       "      <td>LiF</td>\n",
       "      <td>2.638</td>\n",
       "      <td>5.150</td>\n",
       "      <td>1.350</td>\n",
       "    </tr>\n",
       "  </tbody>\n",
       "</table>\n",
       "</div>"
      ],
      "text/plain": [
       "          Material  Density     c0     s1\n",
       "0           Basalt    2.900  3.340  1.380\n",
       "1              Ice    0.910  1.700  1.440\n",
       "2            Water    1.000  1.650  1.920\n",
       "3  Stainless Steel    7.896  4.569  1.490\n",
       "4           Copper    8.924  3.895  1.545\n",
       "5             PMMA    1.186  2.598  1.516\n",
       "6         Tungsten   17.600  4.000  1.268\n",
       "7   Aluminium 6061    2.703  5.350  1.340\n",
       "8              LiF    2.638  5.150  1.350"
      ]
     },
     "metadata": {},
     "output_type": "display_data"
    }
   ],
   "source": [
    "display(matdata)"
   ]
  },
  {
   "cell_type": "markdown",
   "metadata": {},
   "source": [
    "Prepared by<br>\n",
    "Sarah T. Stewart<br>\n",
    "U. California, Davis<br>\n",
    "Updated June 16, 2022<p>\n"
   ]
  }
 ],
 "metadata": {
  "celltoolbar": "Edit Metadata",
  "kernelspec": {
   "display_name": "Python 3 (ipykernel)",
   "language": "python",
   "name": "python3"
  },
  "language_info": {
   "codemirror_mode": {
    "name": "ipython",
    "version": 3
   },
   "file_extension": ".py",
   "mimetype": "text/x-python",
   "name": "python",
   "nbconvert_exporter": "python",
   "pygments_lexer": "ipython3",
   "version": "3.9.12"
  },
  "widgets": {
   "application/vnd.jupyter.widget-state+json": {
    "state": {},
    "version_major": 2,
    "version_minor": 0
   }
  }
 },
 "nbformat": 4,
 "nbformat_minor": 4
}
