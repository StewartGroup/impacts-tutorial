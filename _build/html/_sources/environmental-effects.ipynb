{
 "cells": [
  {
   "cell_type": "markdown",
   "id": "e45c0a2c",
   "metadata": {},
   "source": [
    "# Environmental Effects from Impact Cratering\n",
    "\n",
    "## Online cratering effects tool\n",
    "\n",
    "<a href=\"https://impact.ese.ic.ac.uk/ImpactEarth/ImpactEffects/\" \n",
    "target=\"_blank\">Earth \n",
    "Impact Effects Program</a><p>\n",
    "\n",
    "The full reference for the various environmental effects is given in {cite}`Collins2005`.\n",
    "\n",
    "\n",
    "### Environmental Effects around Meteor Crater, Arizona\n",
    "\n",
    "From the <a\n",
    "href=\"https://www.lpi.usra.edu/science/kring/epo_web/impact_cratering/enviropages/Barringer/effectsmappage.html\"\n",
    "target=\"_blank\">LPI web site</a>:<br>\n",
    "\n",
    "<img src=\"https://www.lpi.usra.edu/science/kring/epo_web/impact_cratering/enviropages/Barringer/barringereffectsweb1.jpg\">"
   ]
  }
 ],
 "metadata": {
  "jupytext": {
   "cell_metadata_filter": "-all",
   "formats": "md:myst",
   "text_representation": {
    "extension": ".md",
    "format_name": "myst",
    "format_version": 0.13,
    "jupytext_version": "1.11.5"
   }
  },
  "kernelspec": {
   "display_name": "Python 3",
   "language": "python",
   "name": "python3"
  },
  "language_info": {
   "codemirror_mode": {
    "name": "ipython",
    "version": 3
   },
   "file_extension": ".py",
   "mimetype": "text/x-python",
   "name": "python",
   "nbconvert_exporter": "python",
   "pygments_lexer": "ipython3",
   "version": "3.7.13"
  },
  "source_map": [
   14
  ]
 },
 "nbformat": 4,
 "nbformat_minor": 5
}